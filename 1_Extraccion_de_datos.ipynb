{
  "nbformat": 4,
  "nbformat_minor": 0,
  "metadata": {
    "colab": {
      "provenance": [],
      "authorship_tag": "ABX9TyPThxfXnACDc1enhT7/Tl2i",
      "include_colab_link": true
    },
    "kernelspec": {
      "name": "python3",
      "display_name": "Python 3"
    },
    "language_info": {
      "name": "python"
    }
  },
  "cells": [
    {
      "cell_type": "markdown",
      "metadata": {
        "id": "view-in-github",
        "colab_type": "text"
      },
      "source": [
        "<a href=\"https://colab.research.google.com/github/MiguelJimenezCruz/Extracci-n-de-Datos/blob/main/1_Extraccion_de_datos.ipynb\" target=\"_parent\"><img src=\"https://colab.research.google.com/assets/colab-badge.svg\" alt=\"Open In Colab\"/></a>"
      ]
    },
    {
      "cell_type": "code",
      "execution_count": 1,
      "metadata": {
        "id": "7Pj7M57At81N"
      },
      "outputs": [],
      "source": [
        "import pandas as pd\n",
        "import numpy as np\n",
        "import matplotlib.pyplot as plt\n",
        "import seaborn as sns"
      ]
    },
    {
      "cell_type": "code",
      "source": [
        "from google.colab import files\n",
        "files.upload()"
      ],
      "metadata": {
        "id": "AdB1xQKluv3f"
      },
      "execution_count": null,
      "outputs": []
    },
    {
      "cell_type": "code",
      "source": [
        "df= pd.read_csv(\"file.csv\")"
      ],
      "metadata": {
        "id": "YciEKMKrvtRF"
      },
      "execution_count": 3,
      "outputs": []
    },
    {
      "cell_type": "code",
      "source": [
        "df.head(5)"
      ],
      "metadata": {
        "id": "MoYKWiUuv8OB"
      },
      "execution_count": null,
      "outputs": []
    },
    {
      "cell_type": "markdown",
      "source": [
        "**FILTROS BASICOS PARA VARIABLES CUALITATIVAS**"
      ],
      "metadata": {
        "id": "DjEmH7FJwHgV"
      }
    },
    {
      "cell_type": "code",
      "source": [
        "filtro1=df[df[\"Sexo\"] == \"Mujeres\"]\n",
        "filtro1\n",
        "#Solo imrime los datos de las Mujeres"
      ],
      "metadata": {
        "id": "XfLUv3Mmwab1"
      },
      "execution_count": null,
      "outputs": []
    },
    {
      "cell_type": "code",
      "source": [
        "filtro2=df.iloc[ 10:16 , : ]\n",
        "filtro2\n",
        "#imprime de la columna 10 a la 16"
      ],
      "metadata": {
        "id": "G5o6MgOyw19u"
      },
      "execution_count": null,
      "outputs": []
    },
    {
      "cell_type": "code",
      "source": [
        "filtro3=df.iloc[ : , [1,2]]\n",
        "filtro3\n",
        "#imprime la fila 1 y 2"
      ],
      "metadata": {
        "id": "-rhNCcRnxQCr"
      },
      "execution_count": null,
      "outputs": []
    },
    {
      "cell_type": "code",
      "source": [
        "df=pd.read_csv(\"file.csv\", index_col=2)\n",
        "df\n",
        "#Hace a la culumna 2 en primera"
      ],
      "metadata": {
        "id": "GsGSbZGMxuVH"
      },
      "execution_count": null,
      "outputs": []
    },
    {
      "cell_type": "code",
      "source": [
        "filtro4=df.loc[[\"Puebla\",\"Durango\"], [\"Poblacion_ocupada_en_la_industria_manufacturera\"]]\n",
        "filtro4\n",
        "#imprime la poblacion ocupada de puebla y durango"
      ],
      "metadata": {
        "id": "McpxrJEayMOm"
      },
      "execution_count": null,
      "outputs": []
    },
    {
      "cell_type": "code",
      "source": [
        "filtro5=df.head(10)\n",
        "filtro5\n",
        "#imrime los 10 primeros datos"
      ],
      "metadata": {
        "id": "bdZqdu9WzIOc"
      },
      "execution_count": null,
      "outputs": []
    },
    {
      "cell_type": "markdown",
      "source": [
        "**FILTROS BASICOS PARA VARIABLES CUANTITATIVAS**"
      ],
      "metadata": {
        "id": "KtJUxFYHzSfC"
      }
    },
    {
      "cell_type": "code",
      "source": [
        "filtro6=df[df[\"Periodo\"] > 2006]\n",
        "filtro6\n",
        "#imrpime los datos del periodo mayores a 2006"
      ],
      "metadata": {
        "id": "SqqUe1CizbXI"
      },
      "execution_count": null,
      "outputs": []
    },
    {
      "cell_type": "markdown",
      "source": [
        "**FILTRO CONECTORES LOGICOS**"
      ],
      "metadata": {
        "id": "Bjn0o6l4z5BO"
      }
    },
    {
      "cell_type": "code",
      "source": [
        "filtro7=df[(df[\"Periodo\"] > 2006) & (df[\"Sexo\"] == \"Mujeres\")]\n",
        "filtro7\n",
        "#imprime los datos que son tanto de un periodo mayor a 2006 y de mujeres"
      ],
      "metadata": {
        "id": "ckvwmONwz82c"
      },
      "execution_count": null,
      "outputs": []
    },
    {
      "cell_type": "code",
      "source": [
        "filtro8=df[(df[\"Periodo\"] > 2006) | (df[\"Sexo\"] == \"Mujeres\")]\n",
        "filtro8\n",
        "#imprime todos los datos que son mayores a 2006 o que son de mujeres"
      ],
      "metadata": {
        "id": "ejvqyGzb0Trd"
      },
      "execution_count": null,
      "outputs": []
    },
    {
      "cell_type": "code",
      "source": [
        "filtro9=df[~(df[\"Periodo\"] > 2006) & ~(df[\"Sexo\"] == \"Mujeres\")]\n",
        "filtro9\n",
        "#imprime todos los datos menores a 2006 y los que no sean de mujeres"
      ],
      "metadata": {
        "id": "iwdaCj8C0aEt"
      },
      "execution_count": null,
      "outputs": []
    },
    {
      "cell_type": "code",
      "source": [
        "filtro9.to"
      ],
      "metadata": {
        "id": "fGgS5lUD0v1p"
      },
      "execution_count": null,
      "outputs": []
    }
  ]
}